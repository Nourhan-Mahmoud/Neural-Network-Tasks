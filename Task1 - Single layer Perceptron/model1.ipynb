{
 "cells": [
  {
   "cell_type": "code",
   "execution_count": 202,
   "metadata": {},
   "outputs": [],
   "source": [
    "import numpy as np\n",
    "import pandas as pd\n",
    "import matplotlib.pyplot as plt\n",
    "import seaborn as sns\n",
    "    "
   ]
  },
  {
   "cell_type": "code",
   "execution_count": 203,
   "metadata": {},
   "outputs": [],
   "source": [
    "def signum(x):\n",
    "    return np.where(x > 0, 1, -1)"
   ]
  },
  {
   "cell_type": "code",
   "execution_count": 204,
   "metadata": {},
   "outputs": [],
   "source": [
    "def perceptron(x, w, b):\n",
    "    return signum(np.dot(w, x) + b)"
   ]
  },
  {
   "cell_type": "code",
   "execution_count": 205,
   "metadata": {},
   "outputs": [],
   "source": [
    "def normalizeData(data : pd.DataFrame):\n",
    "    #min-max normalization\n",
    "    for col in data.columns:\n",
    "        if data[col].dtype == 'object':\n",
    "            continue\n",
    "        data[col] = (data[col] - data[col].min()) / (data[col].max() - data[col].min())\n",
    "    return data"
   ]
  },
  {
   "cell_type": "markdown",
   "metadata": {},
   "source": [
    "# PreProcessing"
   ]
  },
  {
   "cell_type": "markdown",
   "metadata": {},
   "source": [
    "# Train Test Split"
   ]
  },
  {
   "cell_type": "code",
   "execution_count": 206,
   "metadata": {},
   "outputs": [],
   "source": [
    "import warnings\n",
    "warnings.filterwarnings(\"ignore\")\n",
    "def splitData(data,class1,class2):\n",
    "    data = data.sample(frac=1,random_state=45).reset_index(drop=True)\n",
    "    class1_data = data[data.species == class1]\n",
    "    class2_data = data[data.species == class2]\n",
    "    train_data = pd.concat([class1_data[int(len(class1_data)*0.4):],class2_data[int(len(class2_data)*0.4):]])\n",
    "    test_data = pd.concat([class1_data[:int(len(class1_data)*0.4)],class2_data[:int(len(class2_data)*0.4)]])\n",
    "    return train_data,test_data"
   ]
  },
  {
   "cell_type": "markdown",
   "metadata": {},
   "source": [
    "# Model"
   ]
  },
  {
   "cell_type": "code",
   "execution_count": 207,
   "metadata": {},
   "outputs": [],
   "source": [
    "def train(data,epoch,lr,feature1,feature2,class1,class2,isBias):\n",
    "    w = np.array([0, 0])\n",
    "    b = 0\n",
    "    data=data[[feature1,feature2,\"species\"]]\n",
    "    data = data[(data.species == class1) | (data.species == class2)]\n",
    "    species_dict = {class1:1,class2:-1}\n",
    "    data.species = data.species.apply(lambda x: species_dict[x])\n",
    "    for _ in range(epoch):\n",
    "        for index, row in data.iterrows():\n",
    "            x = np.array(row)\n",
    "            y = x[2]\n",
    "            x = x[0:2]\n",
    "            if y != perceptron(x, w, b):\n",
    "                w = w + lr * y * x\n",
    "                if isBias:\n",
    "                    b = b + lr * y\n",
    "    return w,b"
   ]
  },
  {
   "cell_type": "code",
   "execution_count": 208,
   "metadata": {},
   "outputs": [],
   "source": [
    "def test(data,feature1,feature2,class1,class2,w,b):\n",
    "    data=data[[feature1,feature2,\"species\"]]\n",
    "    species_dict = {class1:1,class2:-1}\n",
    "    data.species = data.species.replace(species_dict)\n",
    "    correct = 0\n",
    "    predictions = []\n",
    "    actual = []\n",
    "    for index, row in data.iterrows():\n",
    "        x = np.array(row)\n",
    "        y = x[2]\n",
    "        x = x[0:2]\n",
    "        predictions.append(perceptron(x, w, b))\n",
    "        actual.append(y)\n",
    "        if y == perceptron(x, w, b):\n",
    "            correct += 1\n",
    "    return correct/len(data),actual,predictions"
   ]
  },
  {
   "cell_type": "markdown",
   "metadata": {},
   "source": [
    "# Graphes"
   ]
  },
  {
   "cell_type": "code",
   "execution_count": 209,
   "metadata": {},
   "outputs": [],
   "source": [
    "def plot_data(y1,y2,x1,x2,w,b,x1label,x2label,cls1,cls2):\n",
    "    x1_min, x1_max = x1.min() - 1, x1.max() + 1\n",
    "    x2_min, x2_max = x2.min() - 1, x2.max() + 1\n",
    "    xx1, xx2 = np.meshgrid(np.arange(x1_min, x1_max, 0.02),\n",
    "                            np.arange(x2_min, x2_max, 0.02))\n",
    "    Z = perceptron(np.array([xx1.ravel(), xx2.ravel()]), w.T, b)\n",
    "    Z = Z.reshape(xx1.shape)\n",
    "    plt.contourf(xx1, xx2, Z, alpha=0.4)\n",
    "    plt.scatter(x1,y1 ,c='red')\n",
    "    plt.scatter(x2,y2, c='blue')\n",
    "    plt.xlabel(x1label)\n",
    "    plt.ylabel(x2label)\n",
    "    plt.legend(labels = [cls1,cls2],loc='upper left')\n",
    "    plt.show()"
   ]
  },
  {
   "cell_type": "code",
   "execution_count": 210,
   "metadata": {},
   "outputs": [],
   "source": [
    "def plot_data_withoutLine(y1,y2,x1,x2,x1label,x2label,cls1,cls2):\n",
    "    plt.scatter(x1,y1 ,c='red')\n",
    "    plt.scatter(x2,y2, c='blue')\n",
    "    plt.xlabel(x1label)\n",
    "    plt.ylabel(x2label)\n",
    "    plt.legend(labels = [cls1,cls2],loc='upper left')\n",
    "    plt.show()"
   ]
  },
  {
   "cell_type": "code",
   "execution_count": 211,
   "metadata": {
    "scrolled": false
   },
   "outputs": [],
   "source": [
    "def two_F_graph(data , f1 , f2 , cls1 , cls2 , epochs ,learning_rate,isbias , c_line = True ):\n",
    "    data1 = data[data[\"species\"] == cls1]\n",
    "    data2 = data[data[\"species\"] == cls2]\n",
    "    if c_line==False:\n",
    "        plot_data_withoutLine(data1[f1] ,data1[f2] , data2[f1] ,data2[f2] ,f1 , f2,cls1,cls2)\n",
    "    else:\n",
    "        train_df,test_df = splitData(data,cls1,cls2)\n",
    "        w,b = train(train_df,epochs,learning_rate,f1,f2,cls1,cls2,isbias)\n",
    "        acc,actual,predictions = test(test_df,f1,f2,cls1,cls2,w,b)\n",
    "        print('Accuracy: ',acc)\n",
    "        print(f1 , f2)\n",
    "        plot_data(data1[f1] ,data1[f2] , data2[f1] ,data2[f2] ,w , b,f1 , f2,cls1,cls2)  \n",
    "        return acc,actual,predictions  \n",
    "        "
   ]
  },
  {
   "cell_type": "code",
   "execution_count": 212,
   "metadata": {},
   "outputs": [],
   "source": [
    "def graphes(data ,cols, c_line=False):\n",
    "    for i in range(5):\n",
    "        j=i+1\n",
    "        while j<5:\n",
    "            print(\"Adelie and Gentoo\")\n",
    "            two_F_graph(data , cols[i] , cols[j] , \"Adelie\" , \"Gentoo\" , c_line = c_line )\n",
    "            print(\"Adelie and Chinstrap\")\n",
    "            two_F_graph(data , cols[i] , cols[j] , \"Adelie\" , \"Chinstrap\" , c_line = c_line )\n",
    "            print(\"Chinstrap and Gentoo\")\n",
    "            two_F_graph(data , cols[i] , cols[j] , \"Chinstrap\" , \"Gentoo\" , c_line = c_line )\n",
    "            j=j+1"
   ]
  },
  {
   "cell_type": "code",
   "execution_count": 213,
   "metadata": {},
   "outputs": [],
   "source": [
    "def confusion_matrix(actual,predictions):\n",
    "    fp = 0\n",
    "    fn = 0\n",
    "    tp = 0\n",
    "    tn = 0\n",
    "    for actual_value, predicted_value in zip(actual,predictions):\n",
    "        if predicted_value == actual_value: # t?\n",
    "            if predicted_value == 1: # tp\n",
    "                tp += 1\n",
    "            else: # tn\n",
    "                tn += 1\n",
    "        else: # f?\n",
    "            if predicted_value == 1: # fp\n",
    "                fp += 1\n",
    "            else: # fn\n",
    "                fn += 1\n",
    "                \n",
    "    cm = [[tn, fp],[fn, tp]]\n",
    "    return cm"
   ]
  },
  {
   "cell_type": "code",
   "execution_count": 214,
   "metadata": {},
   "outputs": [
    {
     "data": {
      "image/png": "[encoded data removed]",
      "text/plain": [
       "<Figure size 200x200 with 1 Axes>"
      ]
     },
     "metadata": {},
     "output_type": "display_data"
    },
    {
     "name": "stdout",
     "output_type": "stream",
     "text": [
      "Accuracy:  0.975\n",
      "bill_length_mm bill_depth_mm\n"
     ]
    },
    {
     "data": {
      "image/png": "[encoded data removed]",
      "text/plain": [
       "<Figure size 200x200 with 1 Axes>"
      ]
     },
     "metadata": {},
     "output_type": "display_data"
    },
    {
     "name": "stdout",
     "output_type": "stream",
     "text": [
      "[[TN, FP],[FN, TP]]\n",
      "[[19, 1], [0, 20]]\n"
     ]
    },
    {
     "data": {
      "image/png": "[encoded data removed]",
      "text/plain": [
       "<Figure size 200x200 with 2 Axes>"
      ]
     },
     "metadata": {},
     "output_type": "display_data"
    },
    {
     "data": {
      "text/plain": [
       "<Figure size 500x500 with 0 Axes>"
      ]
     },
     "metadata": {},
     "output_type": "display_data"
    }
   ],
   "source": [
    "if __name__ == \"__main__\":\n",
    "    data = pd.read_csv(\"penguins.csv\")\n",
    "    data=normalizeData(data)\n",
    "    data.gender.fillna(data.gender.describe().top,inplace=True)\n",
    "    data.gender.replace({\"male\":1,\"female\":0},inplace=True)\n",
    "    cols=data.columns.to_list()\n",
    "    cols.remove(\"species\")\n",
    "    \n",
    "    \n",
    "    #graphes(data , c_line=True , cols=cols)\n",
    "    \n",
    "    \n",
    "    two_F_graph(data,'bill_length_mm','bill_depth_mm','Adelie','Gentoo',1000,1,True,c_line=False)\n",
    "    acc,actual,predictions = two_F_graph(data,'bill_length_mm','bill_depth_mm','Adelie','Gentoo',1000,1,True,c_line=True)\n",
    "    cm = confusion_matrix(actual,predictions)\n",
    "    print(\"[[TN, FP],[FN, TP]]\")\n",
    "    print(cm) \n",
    "    sns.heatmap(cm, annot=True)  \n",
    "    \n",
    "    "
   ]
  },
  {
   "cell_type": "code",
   "execution_count": null,
   "metadata": {},
   "outputs": [],
   "source": []
  }
 ],
 "metadata": {
  "kernelspec": {
   "display_name": "Python 3.8.8 ('base')",
   "language": "python",
   "name": "python3"
  },
  "language_info": {
   "codemirror_mode": {
    "name": "ipython",
    "version": 3
   },
   "file_extension": ".py",
   "mimetype": "text/x-python",
   "name": "python",
   "nbconvert_exporter": "python",
   "pygments_lexer": "ipython3",
   "version": "3.8.8"
  },
  "vscode": {
   "interpreter": {
    "hash": "d16ff45f9fbeba51ffbd13e62d606fe7d128bb86bf5872193d07dfad8cd9807e"
   }
  }
 },
 "nbformat": 4,
 "nbformat_minor": 2
}
