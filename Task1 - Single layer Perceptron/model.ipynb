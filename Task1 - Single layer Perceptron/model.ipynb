{
 "cells": [
  {
   "cell_type": "code",
   "execution_count": 141,
   "metadata": {},
   "outputs": [],
   "source": [
    "import numpy as np\n",
    "import pandas as pd\n",
    "import matplotlib.pyplot as plt\n",
    "import seaborn as sns"
   ]
  },
  {
   "cell_type": "code",
   "execution_count": 142,
   "metadata": {},
   "outputs": [],
   "source": [
    "def signum(x):\n",
    "    if x >= 0:\n",
    "        return 1\n",
    "    else:\n",
    "        return -1"
   ]
  },
  {
   "cell_type": "code",
   "execution_count": 143,
   "metadata": {},
   "outputs": [],
   "source": [
    "def perceptron(x, w, b):\n",
    "    return signum(np.dot(w, x) + b)"
   ]
  },
  {
   "cell_type": "code",
   "execution_count": 144,
   "metadata": {},
   "outputs": [],
   "source": [
    "def normalizeData(data : pd.DataFrame):\n",
    "    data = np.abs(data - data.mean()) / data.std()\n",
    "    return data"
   ]
  },
  {
   "cell_type": "code",
   "execution_count": 145,
   "metadata": {},
   "outputs": [],
   "source": [
    "data = pd.read_csv('penguins.csv')"
   ]
  },
  {
   "cell_type": "markdown",
   "metadata": {},
   "source": [
    "# PreProcessing"
   ]
  },
  {
   "cell_type": "code",
   "execution_count": 146,
   "metadata": {},
   "outputs": [],
   "source": [
    "data[['bill_length_mm', 'bill_depth_mm', 'flipper_length_mm',\n",
    "      'body_mass_g']] = data[['bill_length_mm', 'bill_depth_mm', 'flipper_length_mm',\n",
    "                              'body_mass_g']].apply(lambda x: normalizeData(x))"
   ]
  },
  {
   "cell_type": "code",
   "execution_count": 147,
   "metadata": {},
   "outputs": [
    {
     "data": {
      "text/plain": [
       "array(['male', 'female'], dtype=object)"
      ]
     },
     "execution_count": 147,
     "metadata": {},
     "output_type": "execute_result"
    }
   ],
   "source": [
    "data.gender.fillna(data.gender.mode()[0],inplace=True)\n",
    "data.gender.unique()"
   ]
  },
  {
   "cell_type": "code",
   "execution_count": 148,
   "metadata": {},
   "outputs": [],
   "source": [
    "#encode male to 0 and female to 1\n",
    "gender_dict ={\"male\":1,\"female\":0}\n",
    "data.gender = data.gender.apply(lambda x: gender_dict[x])\n"
   ]
  },
  {
   "cell_type": "markdown",
   "metadata": {},
   "source": [
    "# Train Test Split"
   ]
  },
  {
   "cell_type": "code",
   "execution_count": 160,
   "metadata": {},
   "outputs": [],
   "source": [
    "import warnings\n",
    "warnings.filterwarnings(\"ignore\")\n",
    "def splitData(data,class1,class2):\n",
    "    data = data.sample(frac=1).reset_index(drop=True)\n",
    "    class1_data = data[data.species == class1]\n",
    "    class2_data = data[data.species == class2]\n",
    "    test_data = pd.concat([class1_data[:int(len(class1_data)*0.3)],class2_data[:int(len(class2_data)*0.3)]])\n",
    "    train_data = pd.concat([class1_data[int(len(class1_data)*0.3):],class2_data[int(len(class2_data)*0.3):]])\n",
    "    print(len(train_data),len(test_data))\n",
    "    return train_data,test_data"
   ]
  },
  {
   "cell_type": "markdown",
   "metadata": {},
   "source": [
    "# Model"
   ]
  },
  {
   "cell_type": "code",
   "execution_count": 167,
   "metadata": {},
   "outputs": [],
   "source": [
    "def train(data,epoch,lr,feature1,feature2,class1,class2,isBias):\n",
    "    epoch = 1000\n",
    "    learning_rate = 0.1\n",
    "    bias = 1\n",
    "    w = np.array([0, 0])\n",
    "    b = 0\n",
    "    data=data[[feature1,feature2,\"species\"]]\n",
    "    data = data[(data.species == class1) | (data.species == class2)]\n",
    "    data = data.reset_index(drop=True)\n",
    "    data[[feature1,feature2]] = data[[feature1,feature2]].apply(lambda x: normalizeData(x))\n",
    "    species_dict = {class1:1,class2:-1}\n",
    "    data.species = data.species.apply(lambda x: species_dict[x])\n",
    "    for _ in range(epoch):\n",
    "        for index, row in data.iterrows():\n",
    "            x = np.array(row)\n",
    "            y = x[2]\n",
    "            x = x[0:2]\n",
    "            if y * perceptron(x, w, b) <= 0:\n",
    "                w = w + learning_rate * y * x\n",
    "                if isBias:\n",
    "                    b = b + learning_rate * y\n",
    "    return w,b"
   ]
  },
  {
   "cell_type": "code",
   "execution_count": 172,
   "metadata": {},
   "outputs": [],
   "source": [
    "def test(data,feature1,feature2,class1,class2,w,b):\n",
    "    data=data[[feature1,feature2,\"species\"]]\n",
    "    species_dict = {class1:1,class2:-1}\n",
    "    data.species = data.species.apply(lambda x: species_dict[x])\n",
    "    correct = 0\n",
    "    for index, row in data.iterrows():\n",
    "        x = np.array(row)\n",
    "        y = x[2]\n",
    "        x = x[0:2]\n",
    "        if y * perceptron(x, w, b) > 0:\n",
    "            correct += 1\n",
    "    return correct/len(data)"
   ]
  },
  {
   "cell_type": "code",
   "execution_count": 174,
   "metadata": {},
   "outputs": [
    {
     "name": "stdout",
     "output_type": "stream",
     "text": [
      "70 30\n"
     ]
    }
   ],
   "source": [
    "train_df,test_df = splitData(data,\"Adelie\",\"Chinstrap\")"
   ]
  },
  {
   "cell_type": "code",
   "execution_count": 175,
   "metadata": {},
   "outputs": [
    {
     "data": {
      "text/plain": [
       "0.5"
      ]
     },
     "execution_count": 175,
     "metadata": {},
     "output_type": "execute_result"
    }
   ],
   "source": [
    "w,b = train(train_df,1000,1,'bill_length_mm','bill_depth_mm','Adelie','Chinstrap',True)\n",
    "test(test_df,'bill_length_mm','bill_depth_mm','Adelie','Chinstrap',w,0)"
   ]
  }
 ],
 "metadata": {
  "kernelspec": {
   "display_name": "Python 3.10.6 64-bit",
   "language": "python",
   "name": "python3"
  },
  "language_info": {
   "codemirror_mode": {
    "name": "ipython",
    "version": 3
   },
   "file_extension": ".py",
   "mimetype": "text/x-python",
   "name": "python",
   "nbconvert_exporter": "python",
   "pygments_lexer": "ipython3",
   "version": "3.10.6"
  },
  "orig_nbformat": 4,
  "vscode": {
   "interpreter": {
    "hash": "e7370f93d1d0cde622a1f8e1c04877d8463912d04d973331ad4851f04de6915a"
   }
  }
 },
 "nbformat": 4,
 "nbformat_minor": 2
}
